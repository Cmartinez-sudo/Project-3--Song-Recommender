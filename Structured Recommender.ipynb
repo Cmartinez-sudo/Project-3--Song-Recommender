{
 "cells": [
  {
   "cell_type": "code",
   "execution_count": 1,
   "metadata": {},
   "outputs": [],
   "source": [
    "from bs4 import BeautifulSoup\n",
    "import spotipy\n",
    "import pandas as pd\n",
    "import numpy as np\n",
    "import requests\n",
    "import random\n",
    "from spotipy.oauth2 import SpotifyClientCredentials\n",
    "import time\n",
    "from sklearn import datasets\n",
    "from sklearn.preprocessing import StandardScaler\n",
    "from sklearn.cluster import KMeans\n",
    "import pickle"
   ]
  },
  {
   "cell_type": "code",
   "execution_count": 2,
   "metadata": {},
   "outputs": [],
   "source": [
    "scaler_final = pickle.load(open(\"scaler_final.pkl\", \"rb\"))"
   ]
  },
  {
   "cell_type": "code",
   "execution_count": 3,
   "metadata": {},
   "outputs": [],
   "source": [
    "Model_predictor = pickle.load(open(\"KMeans_final.pkl\", \"rb\"))"
   ]
  },
  {
   "cell_type": "code",
   "execution_count": 4,
   "metadata": {},
   "outputs": [],
   "source": [
    "sp = spotipy.Spotify(auth_manager=SpotifyClientCredentials(\n",
    "    client_id=\"a3a2927271164d2786c28785f365ae9b\",\n",
    "    client_secret=\"5e240c22b70140ac8b613a2529b0ccd2\"))"
   ]
  },
  {
   "cell_type": "code",
   "execution_count": 6,
   "metadata": {},
   "outputs": [],
   "source": [
    "billboard = pd.read_csv(\"../Labs/Data/Billboard.csv\")\n",
    "sp_data = pd.read_csv(\"../Labs/Data/Spotify_Data.csv\")\n",
    "full_data = pd.read_csv(\"../Labs/Data/Full_data.csv\")"
   ]
  },
  {
   "cell_type": "code",
   "execution_count": 41,
   "metadata": {},
   "outputs": [],
   "source": [
    "def song_search(input_song):\n",
    "    '''Lets the user input song and function will find the artist'''\n",
    "    result = sp.search(q=input_song, limit = 1)\n",
    "    uri_input_song = result['tracks']['items'][0]['uri']\n",
    "    features_input_song = sp.audio_features(uri_input_song)[0]\n",
    "    print(\"Ah yes!\", input_song, \"by\", result['tracks']['items'][0]['artists'][0]['name'])\n",
    "    return input_song\n",
    "\n",
    "    if input_song in billboard.values:\n",
    "        print(\"That is a hot song!\")\n",
    "        random_song = random.choice(billboard[\"Title\"])\n",
    "        while random_song == input_song:\n",
    "            random_song = random.choice(billboard[\"Title\"])\n",
    "        print(\"Let me recommend you another hot song! Check out:\", random_song, \"by\",billboard.loc[billboard[\"Title\"] == random_song, 'Artist'].iloc[0])\n",
    "    elif input_song not in billboard.values:\n",
    "        new_song = input_song\n",
    "        print(\"Checking our song libraries for recommendation...\")\n",
    "        return new_song\n",
    "\n",
    "def collect_features(new_song): \n",
    "    global recommend_song\n",
    "    result = sp.search(q=new_song, limit = 1)\n",
    "    uri_new_song = result['tracks']['items'][0]['uri']\n",
    "    f_song = []\n",
    "    features_new_song = sp.audio_features(uri_new_song)[0]\n",
    "    f_song.append(features_new_song)\n",
    "    song_features = pd.DataFrame(f_song, columns=[\"danceability\",\"energy\", \"key\", \"loudness\", \"mode\", \"speechiness\", \"acousticness\", \"instrumentalness\", \"liveness\", \"valence\", \"tempo\"])\n",
    "    song_scaled = scaler_final.transform(song_features)\n",
    "    cluster = int(Model_predictor.predict(song_scaled))\n",
    "    filtered_df = full_data[\"clusters\"] == cluster\n",
    "    filtered_data_clusters = full_data[filtered_df]\n",
    "    recommend_song = filtered_data_clusters.sample()\n",
    "    print(\"We found this:\", recommend_song.loc[:,\"song\"].iloc[0], 'by', recommend_song.loc[:,\"artist\"].iloc[0])\n",
    "    print(\"Enjoy!\")"
   ]
  },
  {
   "cell_type": "code",
   "execution_count": 35,
   "metadata": {},
   "outputs": [
    {
     "data": {
      "text/html": [
       "<div>\n",
       "<style scoped>\n",
       "    .dataframe tbody tr th:only-of-type {\n",
       "        vertical-align: middle;\n",
       "    }\n",
       "\n",
       "    .dataframe tbody tr th {\n",
       "        vertical-align: top;\n",
       "    }\n",
       "\n",
       "    .dataframe thead th {\n",
       "        text-align: right;\n",
       "    }\n",
       "</style>\n",
       "<table border=\"1\" class=\"dataframe\">\n",
       "  <thead>\n",
       "    <tr style=\"text-align: right;\">\n",
       "      <th></th>\n",
       "      <th>Unnamed: 0</th>\n",
       "      <th>danceability</th>\n",
       "      <th>energy</th>\n",
       "      <th>key</th>\n",
       "      <th>loudness</th>\n",
       "      <th>mode</th>\n",
       "      <th>speechiness</th>\n",
       "      <th>acousticness</th>\n",
       "      <th>instrumentalness</th>\n",
       "      <th>liveness</th>\n",
       "      <th>valence</th>\n",
       "      <th>tempo</th>\n",
       "      <th>clusters</th>\n",
       "      <th>uri</th>\n",
       "      <th>song</th>\n",
       "      <th>artist</th>\n",
       "    </tr>\n",
       "  </thead>\n",
       "  <tbody>\n",
       "    <tr>\n",
       "      <th>10973</th>\n",
       "      <td>0</td>\n",
       "      <td>0.426</td>\n",
       "      <td>0.584</td>\n",
       "      <td>1</td>\n",
       "      <td>-5.293</td>\n",
       "      <td>1</td>\n",
       "      <td>0.296</td>\n",
       "      <td>0.0383</td>\n",
       "      <td>0.0</td>\n",
       "      <td>0.188</td>\n",
       "      <td>0.272</td>\n",
       "      <td>193.437</td>\n",
       "      <td>10</td>\n",
       "      <td>spotify:track:5R9a4t5t5O0IsznsrKPVro</td>\n",
       "      <td>Single Ladies (Put a Ring on It)</td>\n",
       "      <td>Beyoncé</td>\n",
       "    </tr>\n",
       "  </tbody>\n",
       "</table>\n",
       "</div>"
      ],
      "text/plain": [
       "       Unnamed: 0  danceability  energy  key  loudness  mode  speechiness  \\\n",
       "10973           0         0.426   0.584    1    -5.293     1        0.296   \n",
       "\n",
       "       acousticness  instrumentalness  liveness  valence    tempo  clusters  \\\n",
       "10973        0.0383               0.0     0.188    0.272  193.437        10   \n",
       "\n",
       "                                        uri                              song  \\\n",
       "10973  spotify:track:5R9a4t5t5O0IsznsrKPVro  Single Ladies (Put a Ring on It)   \n",
       "\n",
       "        artist  \n",
       "10973  Beyoncé  "
      ]
     },
     "execution_count": 35,
     "metadata": {},
     "output_type": "execute_result"
    }
   ],
   "source": [
    "recommend_song"
   ]
  },
  {
   "cell_type": "code",
   "execution_count": 42,
   "metadata": {},
   "outputs": [],
   "source": [
    "def main():\n",
    "    scaler = StandardScaler()\n",
    "    input_song = str(input(\"Hello! Please enter a song so I can recommend you one: \"))\n",
    "    song_search(input_song)\n",
    "    if input_song in billboard.values:\n",
    "        print(\"That is a hot song!\")\n",
    "        random_song = random.choice(billboard[\"Title\"])\n",
    "        while random_song == input_song:\n",
    "            random_song = random.choice(billboard[\"Title\"])\n",
    "        print(\"Let me recommend you another hot song! Check out:\", random_song, \"by\",billboard.loc[billboard[\"Title\"] == random_song, 'Artist'].iloc[0])\n",
    "        print(\"Enjoy!\")\n",
    "    elif input_song not in billboard.values:\n",
    "        new_song = input_song\n",
    "        print(\"Checking our song libraries for recommendation...\")\n",
    "        collect_features(new_song)\n",
    "        \n"
   ]
  },
  {
   "cell_type": "markdown",
   "metadata": {},
   "source": []
  },
  {
   "cell_type": "markdown",
   "metadata": {},
   "source": []
  },
  {
   "cell_type": "markdown",
   "metadata": {},
   "source": []
  },
  {
   "cell_type": "markdown",
   "metadata": {},
   "source": []
  },
  {
   "cell_type": "markdown",
   "metadata": {},
   "source": []
  },
  {
   "cell_type": "markdown",
   "metadata": {},
   "source": []
  },
  {
   "cell_type": "markdown",
   "metadata": {},
   "source": []
  },
  {
   "cell_type": "markdown",
   "metadata": {},
   "source": [
    "# Gnod Song Recommender Prototype"
   ]
  },
  {
   "cell_type": "markdown",
   "metadata": {},
   "source": [
    "Song recomendation based on user input"
   ]
  },
  {
   "cell_type": "code",
   "execution_count": 52,
   "metadata": {
    "scrolled": true
   },
   "outputs": [
    {
     "name": "stdout",
     "output_type": "stream",
     "text": [
      "Hello! Please enter a song so I can recommend you one: Californication\n",
      "Ah yes! Californication by Red Hot Chili Peppers\n",
      "Checking our song libraries for recommendation...\n",
      "We found this: Guns And Roses by Lana Del Rey\n",
      "Enjoy\n"
     ]
    }
   ],
   "source": [
    "main()"
   ]
  },
  {
   "cell_type": "code",
   "execution_count": null,
   "metadata": {},
   "outputs": [],
   "source": []
  }
 ],
 "metadata": {
  "kernelspec": {
   "display_name": "Python 3",
   "language": "python",
   "name": "python3"
  },
  "language_info": {
   "codemirror_mode": {
    "name": "ipython",
    "version": 3
   },
   "file_extension": ".py",
   "mimetype": "text/x-python",
   "name": "python",
   "nbconvert_exporter": "python",
   "pygments_lexer": "ipython3",
   "version": "3.8.3"
  },
  "toc": {
   "base_numbering": 1,
   "nav_menu": {},
   "number_sections": true,
   "sideBar": true,
   "skip_h1_title": false,
   "title_cell": "Table of Contents",
   "title_sidebar": "Contents",
   "toc_cell": false,
   "toc_position": {},
   "toc_section_display": true,
   "toc_window_display": false
  },
  "varInspector": {
   "cols": {
    "lenName": 16,
    "lenType": 16,
    "lenVar": 40
   },
   "kernels_config": {
    "python": {
     "delete_cmd_postfix": "",
     "delete_cmd_prefix": "del ",
     "library": "var_list.py",
     "varRefreshCmd": "print(var_dic_list())"
    },
    "r": {
     "delete_cmd_postfix": ") ",
     "delete_cmd_prefix": "rm(",
     "library": "var_list.r",
     "varRefreshCmd": "cat(var_dic_list()) "
    }
   },
   "types_to_exclude": [
    "module",
    "function",
    "builtin_function_or_method",
    "instance",
    "_Feature"
   ],
   "window_display": false
  }
 },
 "nbformat": 4,
 "nbformat_minor": 4
}
